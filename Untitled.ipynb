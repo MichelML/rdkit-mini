{
 "cells": [
  {
   "cell_type": "code",
   "execution_count": 4,
   "id": "a3858017-59c4-4469-a152-7ddc18ed7ae1",
   "metadata": {},
   "outputs": [
    {
     "data": {
      "text/html": [
       "\n",
       "<head>\n",
       "<script src=\"http://localhost:5000/RDKit_minimal.js\"></script>\n",
       "</head>\n",
       "<body>\n",
       "<script>window.initRDKitModule().then((RDKit) => alert(RDKit.get_mol(\"CCC\").get_svg()))</script>\n",
       "</body>\n"
      ],
      "text/plain": [
       "<IPython.core.display.HTML object>"
      ]
     },
     "metadata": {},
     "output_type": "display_data"
    }
   ],
   "source": [
    "from IPython.display import display, HTML\n",
    "js = \"\"\"\n",
    "<head>\n",
    "<script src=\"http://localhost:5000/RDKit_minimal.js\"></script>\n",
    "</head>\n",
    "<body>\n",
    "<script>window.initRDKitModule().then((RDKit) => alert(RDKit.get_mol(\"CCC\").get_svg()))</script>\n",
    "</body>\n",
    "\"\"\"\n",
    "display(HTML(js))"
   ]
  },
  {
   "cell_type": "code",
   "execution_count": null,
   "id": "c2b6fa75-cada-44b3-afb0-d48659baa6f6",
   "metadata": {},
   "outputs": [],
   "source": []
  }
 ],
 "metadata": {
  "kernelspec": {
   "display_name": "Python 3 (ipykernel)",
   "language": "python",
   "name": "python3"
  },
  "language_info": {
   "codemirror_mode": {
    "name": "ipython",
    "version": 3
   },
   "file_extension": ".py",
   "mimetype": "text/x-python",
   "name": "python",
   "nbconvert_exporter": "python",
   "pygments_lexer": "ipython3",
   "version": "3.11.5"
  }
 },
 "nbformat": 4,
 "nbformat_minor": 5
}
